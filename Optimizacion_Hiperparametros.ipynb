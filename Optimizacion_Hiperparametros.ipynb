{
  "cells": [
    {
      "cell_type": "markdown",
      "metadata": {
        "id": "b_ohx1RR9DdL"
      },
      "source": [
        "<a href=\"https://colab.research.google.com/github/andres-merino/AprendizajeAutomaticoInicial-05-N0105/blob/main/2-Ejercicios/10-Optimizacion-Hiperparametros.ipynb\" target=\"_parent\"><img src=\"https://colab.research.google.com/assets/colab-badge.svg\" alt=\"Open In Colab\"/></a>"
      ]
    },
    {
      "cell_type": "markdown",
      "metadata": {
        "id": "ch5ukk-m9DdN"
      },
      "source": [
        "<table style=\"border: none; border-collapse: collapse;\">\n",
        "    <tr>\n",
        "        <td style=\"width: 20%; vertical-align: middle; padding-right: 10px;\">\n",
        "            <img src=\"https://i.imgur.com/nt7hloA.png\" width=\"100\">\n",
        "        </td>\n",
        "        <td style=\"width: 2px; text-align: center;\">\n",
        "            <font color=\"#0030A1\" size=\"7\">|</font><br>\n",
        "            <font color=\"#0030A1\" size=\"7\">|</font>\n",
        "        </td>\n",
        "        <td>\n",
        "            <p style=\"font-variant: small-caps;\"><font color=\"#0030A1\" size=\"5\">\n",
        "                <b>Escuela de Ciencias Físicas y Matemática</b>\n",
        "            </font> </p>\n",
        "            <p style=\"font-variant: small-caps;\"><font color=\"#0030A1\" size=\"4\">\n",
        "                Aprendizaje Automático Inicial &bull; Optmización de Hiperparámetros\n",
        "            </font></p>\n",
        "            <p style=\"font-style: oblique;\"><font color=\"#0030A1\" size=\"3\">\n",
        "                Francsico Flores &bull; 2025-01\n",
        "            </font></p>\n",
        "        </td>  \n",
        "    </tr>\n",
        "</table>"
      ]
    },
    {
      "cell_type": "markdown",
      "metadata": {
        "id": "4EG7H4a89DdN"
      },
      "source": [
        "---\n",
        "## <font color='264CC7'> Introducción </font>\n",
        "\n",
        "A lo largo de este taller, aplicaremos optimización de hiperparámetros en un modelo que elijas."
      ]
    },
    {
      "cell_type": "markdown",
      "metadata": {
        "id": "CUxoJvkh9DdN"
      },
      "source": [
        "Los paquetes necesarios son:"
      ]
    },
    {
      "cell_type": "code",
      "execution_count": 16,
      "metadata": {
        "id": "cY4b33x19DdN"
      },
      "outputs": [],
      "source": [
        "# --- Importación de paquetes necesarios ---\n",
        "\n",
        "# Manejo de datos\n",
        "import os\n",
        "import pandas as pd\n",
        "import numpy as np\n",
        "\n",
        "# Modelos y búsqueda de hiperparámetros\n",
        "from sklearn.ensemble import RandomForestClassifier\n",
        "from sklearn.model_selection import train_test_split, GridSearchCV, RandomizedSearchCV\n",
        "\n",
        "# Evaluación del modelo\n",
        "from sklearn.metrics import accuracy_score\n",
        "\n",
        "# Guardado y carga del modelo entrenado\n",
        "import joblib\n"
      ]
    },
    {
      "cell_type": "markdown",
      "metadata": {
        "id": "2xijcafl9DdO"
      },
      "source": [
        "---\n",
        "## <font color='264CC7'> Clasificación </font>"
      ]
    },
    {
      "cell_type": "markdown",
      "metadata": {
        "id": "k5aSfCXa9DdO"
      },
      "source": [
        "\n",
        "### <font color='264CC7'> Preprocesamiento de datos </font>"
      ]
    },
    {
      "cell_type": "markdown",
      "metadata": {
        "id": "2HZ6eIV69DdO"
      },
      "source": [
        "Primero necesitas el conjunto de datos. Los datos a utilzar son los seleccionados en la clase anterior.\n",
        "\n",
        "<div style=\"background-color: #edf1f8; border-color: #264CC7; border-left: 5px solid #264CC7; padding: 0.5em;\">\n",
        "<strong>Ejercicio:</strong><br>\n",
        "    Carga el conjunto de datos y procésalos:\n",
        "<ul>\n",
        "  <li>Muestra algunos datos.</li>\n",
        "  <li>Muestra una descripción de los datos.</li>\n",
        "  <li>Escala los datos si es necesario.</li>\n",
        "</ul>\n",
        "</div>"
      ]
    },
    {
      "cell_type": "code",
      "execution_count": 18,
      "metadata": {
        "colab": {
          "base_uri": "https://localhost:8080/",
          "height": 377
        },
        "id": "2NOq5TVw9DdO",
        "outputId": "87118488-7437-471f-f781-6519ad7422fd"
      },
      "outputs": [
        {
          "name": "stdout",
          "output_type": "stream",
          "text": [
            "Archivo encontrado en: Base/emails.csv\n"
          ]
        }
      ],
      "source": [
        "# --- Definir la ruta del archivo CSV ---\n",
        "dataset_path = \"Base/emails.csv\"  # Ajustar la ruta si es necesario\n",
        "\n",
        "# Verificar si el archivo existe antes de cargarlo\n",
        "if os.path.exists(dataset_path):\n",
        "    print(f\"Archivo encontrado en: {dataset_path}\")\n",
        "else:\n",
        "    raise FileNotFoundError(f\"No se encontró el archivo en {dataset_path}. Verifica la ruta.\")"
      ]
    },
    {
      "cell_type": "code",
      "execution_count": 20,
      "metadata": {
        "colab": {
          "base_uri": "https://localhost:8080/"
        },
        "id": "hmmVkzydHTul",
        "outputId": "51244b44-c4c4-4d8f-eae7-967a8d47e4f5"
      },
      "outputs": [
        {
          "name": "stdout",
          "output_type": "stream",
          "text": [
            "Primeras filas del dataset:\n"
          ]
        },
        {
          "data": {
            "text/html": [
              "<div>\n",
              "<style scoped>\n",
              "    .dataframe tbody tr th:only-of-type {\n",
              "        vertical-align: middle;\n",
              "    }\n",
              "\n",
              "    .dataframe tbody tr th {\n",
              "        vertical-align: top;\n",
              "    }\n",
              "\n",
              "    .dataframe thead th {\n",
              "        text-align: right;\n",
              "    }\n",
              "</style>\n",
              "<table border=\"1\" class=\"dataframe\">\n",
              "  <thead>\n",
              "    <tr style=\"text-align: right;\">\n",
              "      <th></th>\n",
              "      <th>Email No.</th>\n",
              "      <th>the</th>\n",
              "      <th>to</th>\n",
              "      <th>ect</th>\n",
              "      <th>and</th>\n",
              "      <th>for</th>\n",
              "      <th>of</th>\n",
              "      <th>a</th>\n",
              "      <th>you</th>\n",
              "      <th>hou</th>\n",
              "      <th>...</th>\n",
              "      <th>connevey</th>\n",
              "      <th>jay</th>\n",
              "      <th>valued</th>\n",
              "      <th>lay</th>\n",
              "      <th>infrastructure</th>\n",
              "      <th>military</th>\n",
              "      <th>allowing</th>\n",
              "      <th>ff</th>\n",
              "      <th>dry</th>\n",
              "      <th>Prediction</th>\n",
              "    </tr>\n",
              "  </thead>\n",
              "  <tbody>\n",
              "    <tr>\n",
              "      <th>0</th>\n",
              "      <td>Email 1</td>\n",
              "      <td>0</td>\n",
              "      <td>0</td>\n",
              "      <td>1</td>\n",
              "      <td>0</td>\n",
              "      <td>0</td>\n",
              "      <td>0</td>\n",
              "      <td>2</td>\n",
              "      <td>0</td>\n",
              "      <td>0</td>\n",
              "      <td>...</td>\n",
              "      <td>0</td>\n",
              "      <td>0</td>\n",
              "      <td>0</td>\n",
              "      <td>0</td>\n",
              "      <td>0</td>\n",
              "      <td>0</td>\n",
              "      <td>0</td>\n",
              "      <td>0</td>\n",
              "      <td>0</td>\n",
              "      <td>0</td>\n",
              "    </tr>\n",
              "    <tr>\n",
              "      <th>1</th>\n",
              "      <td>Email 2</td>\n",
              "      <td>8</td>\n",
              "      <td>13</td>\n",
              "      <td>24</td>\n",
              "      <td>6</td>\n",
              "      <td>6</td>\n",
              "      <td>2</td>\n",
              "      <td>102</td>\n",
              "      <td>1</td>\n",
              "      <td>27</td>\n",
              "      <td>...</td>\n",
              "      <td>0</td>\n",
              "      <td>0</td>\n",
              "      <td>0</td>\n",
              "      <td>0</td>\n",
              "      <td>0</td>\n",
              "      <td>0</td>\n",
              "      <td>0</td>\n",
              "      <td>1</td>\n",
              "      <td>0</td>\n",
              "      <td>0</td>\n",
              "    </tr>\n",
              "    <tr>\n",
              "      <th>2</th>\n",
              "      <td>Email 3</td>\n",
              "      <td>0</td>\n",
              "      <td>0</td>\n",
              "      <td>1</td>\n",
              "      <td>0</td>\n",
              "      <td>0</td>\n",
              "      <td>0</td>\n",
              "      <td>8</td>\n",
              "      <td>0</td>\n",
              "      <td>0</td>\n",
              "      <td>...</td>\n",
              "      <td>0</td>\n",
              "      <td>0</td>\n",
              "      <td>0</td>\n",
              "      <td>0</td>\n",
              "      <td>0</td>\n",
              "      <td>0</td>\n",
              "      <td>0</td>\n",
              "      <td>0</td>\n",
              "      <td>0</td>\n",
              "      <td>0</td>\n",
              "    </tr>\n",
              "    <tr>\n",
              "      <th>3</th>\n",
              "      <td>Email 4</td>\n",
              "      <td>0</td>\n",
              "      <td>5</td>\n",
              "      <td>22</td>\n",
              "      <td>0</td>\n",
              "      <td>5</td>\n",
              "      <td>1</td>\n",
              "      <td>51</td>\n",
              "      <td>2</td>\n",
              "      <td>10</td>\n",
              "      <td>...</td>\n",
              "      <td>0</td>\n",
              "      <td>0</td>\n",
              "      <td>0</td>\n",
              "      <td>0</td>\n",
              "      <td>0</td>\n",
              "      <td>0</td>\n",
              "      <td>0</td>\n",
              "      <td>0</td>\n",
              "      <td>0</td>\n",
              "      <td>0</td>\n",
              "    </tr>\n",
              "    <tr>\n",
              "      <th>4</th>\n",
              "      <td>Email 5</td>\n",
              "      <td>7</td>\n",
              "      <td>6</td>\n",
              "      <td>17</td>\n",
              "      <td>1</td>\n",
              "      <td>5</td>\n",
              "      <td>2</td>\n",
              "      <td>57</td>\n",
              "      <td>0</td>\n",
              "      <td>9</td>\n",
              "      <td>...</td>\n",
              "      <td>0</td>\n",
              "      <td>0</td>\n",
              "      <td>0</td>\n",
              "      <td>0</td>\n",
              "      <td>0</td>\n",
              "      <td>0</td>\n",
              "      <td>0</td>\n",
              "      <td>1</td>\n",
              "      <td>0</td>\n",
              "      <td>0</td>\n",
              "    </tr>\n",
              "  </tbody>\n",
              "</table>\n",
              "<p>5 rows × 3002 columns</p>\n",
              "</div>"
            ],
            "text/plain": [
              "  Email No.  the  to  ect  and  for  of    a  you  hou  ...  connevey  jay  \\\n",
              "0   Email 1    0   0    1    0    0   0    2    0    0  ...         0    0   \n",
              "1   Email 2    8  13   24    6    6   2  102    1   27  ...         0    0   \n",
              "2   Email 3    0   0    1    0    0   0    8    0    0  ...         0    0   \n",
              "3   Email 4    0   5   22    0    5   1   51    2   10  ...         0    0   \n",
              "4   Email 5    7   6   17    1    5   2   57    0    9  ...         0    0   \n",
              "\n",
              "   valued  lay  infrastructure  military  allowing  ff  dry  Prediction  \n",
              "0       0    0               0         0         0   0    0           0  \n",
              "1       0    0               0         0         0   1    0           0  \n",
              "2       0    0               0         0         0   0    0           0  \n",
              "3       0    0               0         0         0   0    0           0  \n",
              "4       0    0               0         0         0   1    0           0  \n",
              "\n",
              "[5 rows x 3002 columns]"
            ]
          },
          "metadata": {},
          "output_type": "display_data"
        }
      ],
      "source": [
        "# --- Cargar el dataset ---\n",
        "df = pd.read_csv(dataset_path)\n",
        "\n",
        "# Mostrar las primeras filas para verificar la carga correcta\n",
        "print(\"Primeras filas del dataset:\")\n",
        "display(df.head())  # Se usa print en lugar de display para mayor compatibilidad"
      ]
    },
    {
      "cell_type": "code",
      "execution_count": 21,
      "metadata": {
        "colab": {
          "base_uri": "https://localhost:8080/"
        },
        "id": "LUksqNFoHVOS",
        "outputId": "2f396bb0-5c09-4e2a-ccd7-858dae15b3be"
      },
      "outputs": [
        {
          "name": "stdout",
          "output_type": "stream",
          "text": [
            "Valores nulos por columna:\n",
            "Email No.     0\n",
            "the           0\n",
            "to            0\n",
            "ect           0\n",
            "and           0\n",
            "             ..\n",
            "military      0\n",
            "allowing      0\n",
            "ff            0\n",
            "dry           0\n",
            "Prediction    0\n",
            "Length: 3002, dtype: int64\n"
          ]
        }
      ],
      "source": [
        "# --- Verificar valores nulos en el dataset ---\n",
        "# Se muestra el número de valores nulos por columna para identificar posibles problemas en los datos\n",
        "print(\"Valores nulos por columna:\")\n",
        "print(df.isnull().sum())"
      ]
    },
    {
      "cell_type": "code",
      "execution_count": null,
      "metadata": {
        "colab": {
          "base_uri": "https://localhost:8080/"
        },
        "id": "4WI4BTEkMEWl",
        "outputId": "070fdff1-d772-4309-882c-e10625ef307e"
      },
      "outputs": [
        {
          "name": "stdout",
          "output_type": "stream",
          "text": [
            "Dimensiones de X: (5172, 3000)\n",
            "Dimensiones de y: (5172,)\n"
          ]
        }
      ],
      "source": [
        "# --- Eliminar la columna con los nombres de los correos ---\n",
        "# Se eliminan datos innecesarios dejando solo las características y la etiqueta de clasificación\n",
        "df = df.iloc[:, 1:]  \n",
        "\n",
        "# --- Convertir la etiqueta a formato numérico ---\n",
        "# Si la columna de etiquetas está en formato texto, se convierte a valores numéricos\n",
        "if df.iloc[:, -1].dtype == 'object':\n",
        "    df.iloc[:, -1] = df.iloc[:, -1].map({'spam': 1, 'ham': 0})\n",
        "\n",
        "# --- Definir variables independientes (X) y dependiente (y) ---\n",
        "X = df.iloc[:, :-1] # X contiene todas las características excepto la etiqueta\n",
        "y = df.iloc[:, -1] # y contiene la etiqueta de clasificación (spam/no spam)\n",
        "\n",
        "# --- Verificar dimensiones de los datos ---\n",
        "# Se imprime el tamaño de las matrices X e y para confirmar la correcta separación de variables\n",
        "print(f\"Dimensiones de X: {X.shape}\")\n",
        "print(f\"Dimensiones de y: {y.shape}\")"
      ]
    },
    {
      "cell_type": "markdown",
      "metadata": {
        "id": "LR6gvP8f9DdO"
      },
      "source": [
        "\n",
        "### <font color='264CC7'> Modelo </font>\n"
      ]
    },
    {
      "cell_type": "markdown",
      "metadata": {
        "id": "12NS24L49DdP"
      },
      "source": [
        "<div style=\"background-color: #edf1f8; border-color: #264CC7; border-left: 5px solid #264CC7; padding: 0.5em;\">\n",
        "<strong>Ejercicio:</strong><br>\n",
        "    Selecciona el mejor modelo de las clases anteriores.\n",
        "<ul>\n",
        "  <li>Muestra los hiperparámetros del modelo.</li>\n",
        "  <li>Consulta qué significan al menos 4 hiperparámetros.</li>\n",
        "  <li>Selecciona los hiperparámetros que deseas optimizar, al menos 3.</li>\n",
        "</ul>\n",
        "</div>"
      ]
    },
    {
      "cell_type": "code",
      "execution_count": 7,
      "metadata": {
        "colab": {
          "base_uri": "https://localhost:8080/"
        },
        "id": "Em4hPDqX9DdP",
        "outputId": "fd6ee328-3fc4-4b8b-a4f9-88c90b90ae38"
      },
      "outputs": [
        {
          "name": "stdout",
          "output_type": "stream",
          "text": [
            "Hiperparámetros por defecto:\n",
            "{'bootstrap': True, 'ccp_alpha': 0.0, 'class_weight': None, 'criterion': 'gini', 'max_depth': None, 'max_features': 'sqrt', 'max_leaf_nodes': None, 'max_samples': None, 'min_impurity_decrease': 0.0, 'min_samples_leaf': 1, 'min_samples_split': 2, 'min_weight_fraction_leaf': 0.0, 'monotonic_cst': None, 'n_estimators': 100, 'n_jobs': None, 'oob_score': False, 'random_state': 42, 'verbose': 0, 'warm_start': False}\n"
          ]
        }
      ],
      "source": [
        "# --- Inicializar el modelo Random Forest ---\n",
        "# Se crea un modelo sin ajuste de hiperparámetros para evaluar su rendimiento base\n",
        "rf = RandomForestClassifier(random_state=42)\n",
        "\n",
        "# --- Mostrar los hiperparámetros por defecto ---\n",
        "# Se imprimen los valores predeterminados de los hiperparámetros del modelo\n",
        "print(\"Hiperparámetros por defecto:\")\n",
        "print(rf.get_params())"
      ]
    },
    {
      "cell_type": "markdown",
      "metadata": {
        "id": "55DQXZ4m9DdP"
      },
      "source": [
        "**🔍 Los 4 hiperparámetros más importantes en Random Forest**\n",
        "\n",
        "**`n_estimators` (Número de árboles en el bosque)**\n",
        "- Define cuántos árboles se entrenarán en el modelo.\n",
        "- Más árboles suelen mejorar el rendimiento, pero aumentan el tiempo de entrenamiento.\n",
        "- **Valor por defecto:** 100.\n",
        "\n",
        "**`max_depth` (Profundidad máxima de los árboles)**\n",
        "- Controla cuán profundo pueden crecer los árboles.\n",
        "- Si es `None`, los árboles crecerán hasta que todas las hojas sean puras o contengan menos de `min_samples_split`.\n",
        "- Valores altos pueden hacer que el modelo sea más complejo y propenso a sobreajuste.\n",
        "\n",
        "**`min_samples_split` (Mínimo de muestras para dividir un nodo)**\n",
        "- Determina el número mínimo de muestras que debe tener un nodo para dividirse en dos nodos hijos.\n",
        "- Un valor bajo da modelos más detallados, mientras que un valor alto los hace más simples.\n",
        "- **Valor por defecto:** 2.\n",
        "\n",
        "**`max_features` (Número máximo de características consideradas en cada división)**\n",
        "- Controla cuántas variables se usan en cada nodo del árbol.\n",
        "- `'sqrt'` (por defecto) selecciona la raíz cuadrada del número total de características.\n",
        "- `'log2'` usa el logaritmo en base 2 del número de características.\n",
        "- También se puede definir como un número entero o como un porcentaje (`float`) de características.\n"
      ]
    },
    {
      "cell_type": "markdown",
      "metadata": {
        "id": "6s0ZWX2YJ0S5"
      },
      "source": [
        "Los hiperparámetros que serán optimizados para encontrar la mejor combinación y mejorar el rendimiento del modelo son: `n_estimators`, `max_depth`, `min_samples_split`, `max_features`, `min_samples_leaf`"
      ]
    },
    {
      "cell_type": "markdown",
      "metadata": {
        "id": "7I8B52-l9DdP"
      },
      "source": [
        "### <font color='264CC7'> Optimización por GridSearch </font>"
      ]
    },
    {
      "cell_type": "markdown",
      "metadata": {
        "id": "WGNclGu49DdP"
      },
      "source": [
        "<div style=\"background-color: #edf1f8; border-color: #264CC7; border-left: 5px solid #264CC7; padding: 0.5em;\">\n",
        "<strong>Ejercicio:</strong><br>\n",
        "    Aplica GridSearch para optimizar los hiperparámetros del modelo.\n",
        "<ul>\n",
        "  <li>Para cada hiperparámetro, selecciona al menos 3 valores, si es posible.</li>\n",
        "  <li>Utiliza al menos 5 validaciones cruzadas.</li>\n",
        "  <li>Muestra los parámetros óptimos y su score.</li>\n",
        "</ul>\n",
        "</div>"
      ]
    },
    {
      "cell_type": "code",
      "execution_count": 13,
      "metadata": {
        "colab": {
          "base_uri": "https://localhost:8080/",
          "height": 373
        },
        "id": "FN86hm799DdP",
        "outputId": "5be74ceb-174b-445f-daac-ffefd9a32d18"
      },
      "outputs": [
        {
          "name": "stdout",
          "output_type": "stream",
          "text": [
            "Fitting 5 folds for each of 72 candidates, totalling 360 fits\n",
            "Mejores hiperparámetros encontrados:\n",
            "{'max_depth': None, 'max_features': 'sqrt', 'min_samples_leaf': 1, 'min_samples_split': 5, 'n_estimators': 100}\n",
            "Precisión en el conjunto de prueba: 0.9749\n"
          ]
        }
      ],
      "source": [
        "# --- Dividir el dataset en entrenamiento y prueba ---\n",
        "# Se asigna el 80% de los datos para entrenamiento y el 20% para prueba\n",
        "X_train, X_test, y_train, y_test = train_test_split(X, y, test_size=0.2, random_state=42)\n",
        "\n",
        "# --- Definir el modelo base ---\n",
        "# Se utiliza un modelo de Random Forest sin ajuste de hiperparámetros\n",
        "rf = RandomForestClassifier(random_state=42)\n",
        "\n",
        "# --- Definir el espacio de búsqueda de hiperparámetros ---\n",
        "# Se utilizan valores reducidos para optimizar el tiempo de búsqueda\n",
        "param_grid = {\n",
        "    'n_estimators': [50, 100, 200],  # Número de árboles en el bosque\n",
        "    'max_depth': [10, 20, None],  # Profundidad máxima del árbol\n",
        "    'min_samples_split': [2, 5],  # Número mínimo de muestras para dividir un nodo\n",
        "    'max_features': ['sqrt', 'log2'],  # Selección de características en cada división\n",
        "    'min_samples_leaf': [1, 2]  # Número mínimo de muestras en una hoja\n",
        "}\n",
        "\n",
        "# --- Configurar la búsqueda de hiperparámetros ---\n",
        "# Se utiliza GridSearchCV con validación cruzada para encontrar la mejor combinación\n",
        "grid_search = GridSearchCV(\n",
        "    estimator=rf,\n",
        "    param_grid=param_grid,\n",
        "    cv=5,  # Validación cruzada con 5 particiones\n",
        "    scoring='accuracy',  # Métrica de evaluación basada en precisión\n",
        "    n_jobs=-1,  # Uso de todos los núcleos del procesador para acelerar la búsqueda\n",
        "    verbose=2  # Muestra el progreso del entrenamiento\n",
        ")\n",
        "\n",
        "# --- Ejecutar la búsqueda de hiperparámetros ---\n",
        "# Se entrena el modelo probando todas las combinaciones del grid\n",
        "grid_search.fit(X_train, y_train)\n",
        "\n",
        "# --- Mostrar los mejores hiperparámetros encontrados ---\n",
        "# Se imprimen los valores óptimos seleccionados por GridSearchCV\n",
        "print(\"Mejores hiperparámetros encontrados:\")\n",
        "print(grid_search.best_params_)\n",
        "\n",
        "# --- Evaluar el modelo optimizado en el conjunto de prueba ---\n",
        "# Se utiliza el mejor modelo encontrado para realizar predicciones en los datos de prueba\n",
        "best_rf = grid_search.best_estimator_\n",
        "y_pred = best_rf.predict(X_test)\n",
        "\n",
        "# --- Calcular y mostrar la precisión del modelo ---\n",
        "# Se compara la predicción del modelo con las etiquetas reales del conjunto de prueba\n",
        "accuracy = accuracy_score(y_test, y_pred)\n",
        "print(f\"Precisión en el conjunto de prueba: {accuracy:.4f}\")\n"
      ]
    },
    {
      "cell_type": "markdown",
      "metadata": {
        "id": "F5NXaSJB9DdP"
      },
      "source": [
        "### <font color='264CC7'> Optimización por RandomSearch </font>"
      ]
    },
    {
      "cell_type": "markdown",
      "metadata": {
        "id": "v67jabuQ9DdP"
      },
      "source": [
        "<div style=\"background-color: #edf1f8; border-color: #264CC7; border-left: 5px solid #264CC7; padding: 0.5em;\">\n",
        "<strong>Ejercicio:</strong><br>\n",
        "    Aplica RandomSearch para optimizar los hiperparámetros del modelo.\n",
        "<ul>\n",
        "  <li>Para cada hiperparámetro, selecciona al menos 5 valores, si es posible.</li>\n",
        "  <li>Utiliza al menos 5 validaciones cruzadas.</li>\n",
        "  <li>Usa RandomSearchCV con 25 iteraciones.</li>\n",
        "  <li>Muestra los parámetros óptimos y su score.</li>\n",
        "</ul>\n",
        "</div>"
      ]
    },
    {
      "cell_type": "code",
      "execution_count": 11,
      "metadata": {
        "id": "H-OJUJO_9DdP"
      },
      "outputs": [
        {
          "name": "stdout",
          "output_type": "stream",
          "text": [
            "Dimensiones de X: (5172, 3000)\n",
            "Dimensiones de y: (5172,)\n",
            "Iniciando entrenamiento con búsqueda de hiperparámetros...\n",
            "Fitting 5 folds for each of 25 candidates, totalling 125 fits\n",
            "Mejores hiperparámetros encontrados:\n",
            "{'n_estimators': 500, 'min_samples_split': 15, 'min_samples_leaf': 2, 'max_features': 'sqrt', 'max_depth': 30}\n",
            "Precisión en el conjunto de prueba: 0.9749\n"
          ]
        }
      ],
      "source": [
        "# --- Cargar dataset ---\n",
        "df = pd.read_csv(\"Base/emails.csv\")  # Ajustar la ruta si es necesario\n",
        "\n",
        "# --- Preparar variables independientes (X) y dependientes (y) ---\n",
        "X = df.iloc[:, 1:-1].to_numpy().astype(np.float32)  # Convertir a formato NumPy\n",
        "y = df.iloc[:, -1].to_numpy().astype(np.int32)  # Etiquetas ya están en 0 y 1\n",
        "\n",
        "# --- Verificar dimensiones ---\n",
        "print(f\"Dimensiones de X: {X.shape}\")  # Debe ser (5172, 3000)\n",
        "print(f\"Dimensiones de y: {y.shape}\")  # Debe ser (5172,)\n",
        "\n",
        "# --- Dividir en entrenamiento y prueba ---\n",
        "X_train, X_test, y_train, y_test = train_test_split(X, y, test_size=0.2, random_state=42)\n",
        "\n",
        "# --- Definir modelo base ---\n",
        "rf = RandomForestClassifier(random_state=42, n_jobs=-1)  # Se usa la CPU de forma óptima\n",
        "\n",
        "# --- Espacio de búsqueda de hiperparámetros ---\n",
        "param_dist = {\n",
        "    'n_estimators': [50, 100, 200, 300, 500],  \n",
        "    'max_depth': [10, 20, 30, 40, None],  \n",
        "    'min_samples_split': [2, 5, 10, 15, 20],  \n",
        "    'max_features': ['sqrt', 'log2', None, 0.5, 0.75],  \n",
        "    'min_samples_leaf': [1, 2, 4, 6, 8]  \n",
        "}\n",
        "\n",
        "# --- Configurar búsqueda aleatoria de hiperparámetros ---\n",
        "random_search = RandomizedSearchCV(\n",
        "    estimator=rf,\n",
        "    param_distributions=param_dist,\n",
        "    n_iter=25,\n",
        "    cv=5,\n",
        "    scoring='accuracy',\n",
        "    n_jobs=-1,\n",
        "    verbose=2,\n",
        "    random_state=42\n",
        ")\n",
        "\n",
        "# --- Entrenar el modelo ---\n",
        "print(\"Iniciando entrenamiento con búsqueda de hiperparámetros...\")\n",
        "random_search.fit(X_train, y_train)\n",
        "\n",
        "# --- Mostrar mejores hiperparámetros ---\n",
        "print(\"Mejores hiperparámetros encontrados:\")\n",
        "print(random_search.best_params_)\n",
        "\n",
        "# --- Evaluar modelo en el conjunto de prueba ---\n",
        "best_rf = random_search.best_estimator_\n",
        "y_pred = best_rf.predict(X_test)\n",
        "\n",
        "accuracy = accuracy_score(y_test, y_pred)\n",
        "print(f\"Precisión en el conjunto de prueba: {accuracy:.4f}\")\n"
      ]
    },
    {
      "cell_type": "markdown",
      "metadata": {
        "id": "hXfInkyu9DdP"
      },
      "source": []
    },
    {
      "cell_type": "markdown",
      "metadata": {
        "id": "FGnwo8bu9DdP"
      },
      "source": [
        "### <font color='264CC7'> Guardado de modelo </font>"
      ]
    },
    {
      "cell_type": "markdown",
      "metadata": {
        "id": "iMcrKq7F9DdP"
      },
      "source": [
        "<div style=\"background-color: #edf1f8; border-color: #264CC7; border-left: 5px solid #264CC7; padding: 0.5em;\">\n",
        "<strong>Ejercicio:</strong><br>\n",
        "  Con los parámetros óptimos que mejor resultado dieron, reentrena el modelo, muestra su score y guárdalo.\n",
        "</div>"
      ]
    },
    {
      "cell_type": "code",
      "execution_count": 17,
      "metadata": {},
      "outputs": [
        {
          "name": "stdout",
          "output_type": "stream",
          "text": [
            "Precisión final del modelo reentrenado: 0.9749\n",
            "Modelo guardado como: modelo_random_forest.pkl\n"
          ]
        }
      ],
      "source": [
        "# --- Definir los mejores hiperparámetros encontrados ---\n",
        "best_params = {\n",
        "    'n_estimators': 500,\n",
        "    'min_samples_split': 15,\n",
        "    'min_samples_leaf': 2,\n",
        "    'max_features': 'sqrt',\n",
        "    'max_depth': 30,\n",
        "    'random_state': 42\n",
        "}\n",
        "\n",
        "# --- Inicializar y entrenar el modelo con los mejores hiperparámetros ---\n",
        "best_rf = RandomForestClassifier(**best_params)\n",
        "best_rf.fit(X_train, y_train)\n",
        "\n",
        "# --- Evaluar el modelo optimizado ---\n",
        "y_pred = best_rf.predict(X_test)\n",
        "accuracy = accuracy_score(y_test, y_pred)\n",
        "\n",
        "print(f\"Precisión final del modelo reentrenado: {accuracy:.4f}\")\n",
        "\n",
        "# --- Guardar el modelo entrenado ---\n",
        "model_filename = \"modelo_random_forest.pkl\"\n",
        "joblib.dump(best_rf, model_filename)\n",
        "print(f\"Modelo guardado como: {model_filename}\")\n"
      ]
    },
    {
      "cell_type": "markdown",
      "metadata": {
        "id": "eWR_LbfA9DdP"
      },
      "source": [
        "### <font color='264CC7'> Publicación </font>"
      ]
    },
    {
      "cell_type": "markdown",
      "metadata": {
        "id": "VAhDo3Oz9DdP"
      },
      "source": [
        "<div style=\"background-color: #edf1f8; border-color: #264CC7; border-left: 5px solid #264CC7; padding: 0.5em;\">\n",
        "<strong>Ejercicio:</strong><br>\n",
        "  Coloca el este cuaderno y el modelo en tu repositorio de GitHub. Agrega una licencia MIT y un README.md donde se explique el contenido del repositorio, los datos utilizados y los resultados obtenidos.\n",
        "</div>"
      ]
    }
  ],
  "metadata": {
    "colab": {
      "provenance": []
    },
    "kernelspec": {
      "display_name": "Python 3",
      "language": "python",
      "name": "python3"
    },
    "language_info": {
      "codemirror_mode": {
        "name": "ipython",
        "version": 3
      },
      "file_extension": ".py",
      "mimetype": "text/x-python",
      "name": "python",
      "nbconvert_exporter": "python",
      "pygments_lexer": "ipython3",
      "version": "3.12.7"
    }
  },
  "nbformat": 4,
  "nbformat_minor": 0
}
